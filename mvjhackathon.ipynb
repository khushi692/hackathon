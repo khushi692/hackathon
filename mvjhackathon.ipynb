{
 "cells": [
  {
   "cell_type": "code",
   "execution_count": null,
   "id": "18c3455d-5852-45e6-ad9a-cf2f53c9c411",
   "metadata": {},
   "outputs": [],
   "source": [
    "#project of wildfire risk prediction\n",
    "import pandas as pd\n",
    "\n",
    "lightning_data = pd.read_csv('\"C:\\Users\\alert\\Downloads\\archive (1)\\LIGHTNING DATA.csv\"')\n",
    "fire_data = pd.read_csv('\"C:\\Users\\alert\\Downloads\\archive (2)\\forestfires.csv\"')\n",
    "merged_data = pd.merge(lightning_data, fire_data, on='location', how='inner')\n",
    "import matplotlib.pyplot as plt\n",
    "\n",
    "plt.scatter(merged_data['lightning_strikes'], merged_data['fire_incidents'])\n",
    "plt.xlabel('Number of Lightning Strikes')\n",
    "plt.ylabel('Number of Fire Incidents')\n",
    "plt.title('Correlation between Lightning Strikes and Wildfires')\n",
    "plt.show()\n",
    "from sklearn.model_selection \n",
    "import train_test_split\n",
    "\n",
    "X = merged_data[['lightning_strikes', 'humidity', 'temperature']]\n",
    "y = merged_data['fire_incidents']\n",
    "\n",
    "X_train, X_test, y_train, y_test = train_test_split(X, y, test_size=0.2, random_state=42)\n",
    "from sklearn.ensemble \n",
    "import RandomForestClassifier\n",
    "\n",
    "model = RandomForestClassifier()\n",
    "model.fit(X_train, y_train)\n",
    "from sklearn.metrics \n",
    "import classification_report\n",
    "\n",
    "y_pred = model.predict(X_test)\n",
    "print(classification_report(y_test, y_pred))\n",
    "\n",
    "\n"
   ]
  },
  {
   "cell_type": "code",
   "execution_count": null,
   "id": "877baad7-a8c8-43f9-a614-b0665eca2872",
   "metadata": {},
   "outputs": [],
   "source": []
  }
 ],
 "metadata": {
  "kernelspec": {
   "display_name": "Python 3 (ipykernel)",
   "language": "python",
   "name": "python3"
  },
  "language_info": {
   "codemirror_mode": {
    "name": "ipython",
    "version": 3
   },
   "file_extension": ".py",
   "mimetype": "text/x-python",
   "name": "python",
   "nbconvert_exporter": "python",
   "pygments_lexer": "ipython3",
   "version": "3.13.0"
  }
 },
 "nbformat": 4,
 "nbformat_minor": 5
}
